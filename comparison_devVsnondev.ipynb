{
 "cells": [
  {
   "cell_type": "markdown",
   "metadata": {},
   "source": [
    "# Comparing developing vs non-developing TCs in aquaplanet simulations"
   ]
  },
  {
   "cell_type": "code",
   "execution_count": 1,
   "metadata": {},
   "outputs": [],
   "source": [
    "from waveFilter import kf_filter\n",
    "import xarray as xr\n",
    "import numpy as np\n",
    "import pandas as pd\n",
    "import scipy.stats  \n",
    "from functions_mpas_aqua import find_tcgen,find_tcgen_closedcontour,find_nondev_analogs_to_devtcs\n",
    "import matplotlib.pyplot as plt\n",
    "\n",
    "#increase font size\n",
    "plt.rcParams.update({'font.size': 18})\n",
    "\n",
    "#color-blind friendly colors\n",
    "colors = ['#377eb8', '#4daf4a',\n",
    "          '#f781bf', '#a65628', '#984ea3',\n",
    "          '#999999', '#e41a1c', '#dede00'] #source: https://gist.github.com/thriveth/8560036"
   ]
  },
  {
   "cell_type": "markdown",
   "metadata": {},
   "source": [
    "Define basic information that will be used to access files, filter waves, etc."
   ]
  },
  {
   "cell_type": "code",
   "execution_count": 25,
   "metadata": {},
   "outputs": [
    {
     "name": "stdout",
     "output_type": "stream",
     "text": [
      "111\n"
     ]
    }
   ],
   "source": [
    "exp_name = 'TC_3km'\n",
    "pth = \"/glade/scratch/rberrios/MPAS_APE/aqua_sstmax10N/%s/\"%exp_name\n",
    "# df_all = pd.read_csv(\"%s/VORT_vertmean_n256test/TRACK_data_all\"%pth)\n",
    "df_all = pd.read_csv(\n",
    "    \"/glade/u/home/rberrios/projects/TCgenesis_mpasaqua/data/TC_3km/TRACK_data_all_REFINED_CENTER_3km.csv\")\n",
    "df_all=df_all.rename(columns={'lon_pcentroid_pmin_r100':'lon','lat_pcentroid_pmin_r100':'lat'})\n",
    "print(len(df_all.ID.unique()))\n",
    "data_frames = list(df_all.groupby(\"ID\"))\n",
    "#tcgen_info = find_tcgen(data_frames)\n",
    "\n",
    "# Set Pre-Defined Arguments for wave filtering\n",
    "mis = -999\n",
    "obsPerDay = 4\n",
    "algoName='mpas'\n",
    "minLat=0\n",
    "maxLat=10\n",
    "\n",
    "init_time = np.datetime64('2000-03-31 00:00:00')\n",
    "obsVar = 'pr'\n",
    "filtVar = obsVar\n",
    "waveName = 'Kelvin'\n",
    "obsPerDay = 4 #six-hourly\n",
    "fname = pth+'latlon/diags_gaussian_global_nospinup_n400.nc'\n",
    "\n",
    "labels = ['DEV','non-DEV']\n",
    "\n",
    "# build a rectangle in axes coords\n",
    "left, width = .005, .5\n",
    "bottom, height = .48, .5\n",
    "right = left + width\n",
    "top = bottom + height"
   ]
  },
  {
   "cell_type": "markdown",
   "metadata": {},
   "source": [
    "Identify genesis time and gather info"
   ]
  },
  {
   "cell_type": "code",
   "execution_count": 5,
   "metadata": {},
   "outputs": [
    {
     "name": "stdout",
     "output_type": "stream",
     "text": [
      "no closed contour found in MSLP\n",
      "no closed contour found in MSLP\n",
      "no genesis time found\n",
      "no closed contour found in MSLP\n",
      "no closed contour found in MSLP\n",
      "no closed contour found in MSLP\n",
      "no closed contour found in MSLP\n",
      "no genesis time found\n",
      "no genesis time found\n",
      "no genesis:  102\n"
     ]
    }
   ],
   "source": [
    "tcgen_info = find_tcgen_closedcontour(data_frames,fname,init_time)\n",
    "#filter to keep equatorward of 35 N\n",
    "tcgen_info = tcgen_info[tcgen_info.lat<35]"
   ]
  },
  {
   "cell_type": "markdown",
   "metadata": {},
   "source": [
    "<!-- To find non-developing analogs, let's try to find analogs at T-24 h before genesis -->"
   ]
  },
  {
   "cell_type": "code",
   "execution_count": null,
   "metadata": {},
   "outputs": [],
   "source": [
    "# tcgen_info_minust = []\n",
    "# for index, row in tcgen_info.iterrows():\n",
    "    \n",
    "#     df_sub = df_all[df_all.ID==row['ID']]\n",
    "#     df_sub['fhr'] = df_sub['fhr']-row['fhr']\n",
    "#     df_sub_minust = df_sub[df_sub.fhr==0]\n",
    "#     if (not df_sub_minust.empty):\n",
    "#         tcgen_info_minust.append(df_sub_minust)\n",
    "\n",
    "# tcgen_info_minust = pd.concat(tcgen_info_minust)\n",
    "# tcgen_info_minust"
   ]
  },
  {
   "cell_type": "markdown",
   "metadata": {},
   "source": [
    "Find non-developing analogs to the developing TCs "
   ]
  },
  {
   "cell_type": "code",
   "execution_count": null,
   "metadata": {},
   "outputs": [],
   "source": [
    "# analogs_ndv,df_all = find_nondev_analogs_to_devtcs(pth+'VORT_vertmean_n256test/',tcgen_info_minust)"
   ]
  },
  {
   "cell_type": "code",
   "execution_count": null,
   "metadata": {},
   "outputs": [],
   "source": [
    "# df_all['valid_time'] = init_time+pd.to_timedelta(df_all.fhr,unit='h')"
   ]
  },
  {
   "cell_type": "markdown",
   "metadata": {},
   "source": [
    "### Basic comparison of developing and non-developing analogs"
   ]
  },
  {
   "cell_type": "markdown",
   "metadata": {},
   "source": [
    "Make several plots to make sure that the analogs are truly comparable to the developing TCs."
   ]
  },
  {
   "cell_type": "code",
   "execution_count": null,
   "metadata": {},
   "outputs": [],
   "source": [
    "# #increase font size\n",
    "# plt.rcParams.update({'font.size': 18})\n",
    "\n",
    "# bins = np.arange(0,40,5)\n",
    "# plt.figure()\n",
    "# plt.hist([tcgen_info_minust.lat,analogs_ndv.lat],bins=bins,alpha=0.5)\n",
    "# plt.xlabel('latitude')\n",
    "# plt.ylabel('counts')\n",
    "# plt.legend(labels)"
   ]
  },
  {
   "cell_type": "code",
   "execution_count": null,
   "metadata": {},
   "outputs": [],
   "source": [
    "# #increase font size\n",
    "# plt.rcParams.update({'font.size': 18})\n",
    "\n",
    "# bins = np.arange(1,11,1)\n",
    "# plt.figure()\n",
    "# plt.hist([tcgen_info_minust.vor850,analogs_ndv.vor850],bins=bins,alpha=0.5)\n",
    "# plt.ylabel('counts')\n",
    "# plt.xlabel('600-850 hPa vorticity (10$^{-5}$ s$^{-1}$)')\n",
    "# plt.legend(labels)"
   ]
  },
  {
   "cell_type": "markdown",
   "metadata": {},
   "source": [
    "### Comparison of histograms w.r.t. Kelvin wave crest"
   ]
  },
  {
   "cell_type": "markdown",
   "metadata": {},
   "source": [
    "Method #1: minimize a cost function"
   ]
  },
  {
   "cell_type": "code",
   "execution_count": 6,
   "metadata": {},
   "outputs": [],
   "source": [
    "def filter_data_for_ccews(fname,obsVar,obsPerDay,waveName,**kwargs):\n",
    "    \n",
    "    filter_info = {\n",
    "        'minLat' : 0,\n",
    "        'maxLat' : 10,\n",
    "        'avgLat' : True\n",
    "    }\n",
    "    \n",
    "    for keys in kwargs:\n",
    "        filter_info[keys] = kwargs[keys]\n",
    "    print(filter_info)\n",
    "    \n",
    "    #read data    \n",
    "    infile = xr.open_dataset(fname)\n",
    "    lon = infile.lon\n",
    "\n",
    "    obsTime = infile.time\n",
    "    nObs=len(obsTime)\n",
    "    obsData = infile[obsVar].sortby('lat').sel(lat=slice(filter_info['minLat'],filter_info['maxLat']))#.mean(dim='lat')\n",
    "    \n",
    "    from datetime import timedelta\n",
    "    # Extend filtering to 700 days\n",
    "    filtTime = np.arange(0,len(obsTime)+702)\n",
    "\n",
    "    # Incorporate original data into array\n",
    "    if (filter_info['avgLat']):\n",
    "        obsData = obsData.mean('lat')\n",
    "        filtData=np.zeros([len(filtTime),1,len(lon)],dtype='f')\n",
    "        lat = [0]\n",
    "        coords = [obsTime,lon]\n",
    "        dims = ['time','lon']\n",
    "        filtData[0:obsData.shape[0],0,:]=obsData  \n",
    "    else:\n",
    "        lat = obsData.lat\n",
    "        filtData=np.zeros([len(filtTime),len(lat),len(lon)],dtype='f')\n",
    "        coords = [obsTime,lat,lon]\n",
    "        dims = ['time','lat','lon']\n",
    "        filtData[0:obsData.shape[0],:]=obsData  \n",
    "    \n",
    "    wave = filtData\n",
    "    \n",
    "    if (waveName == 'Kelvin'):\n",
    "        wave_longname=\"Kelvin Waves in \"+filtVar.upper()\n",
    "        wave_filter=\"Straub & Kiladis (2002) to 20 days\"\n",
    "        wave_wavenumber=np.array([1,14],dtype='f')\n",
    "        wave_period=np.array([2.5,20],dtype='f')\n",
    "        wave_depth=np.array([8,90],dtype='f')\n",
    "        # wave_units=unit\n",
    "    elif (waveName == 'AD'):\n",
    "        wave_longname=\"Advective Disturbances\"\n",
    "        wave_filter=\"Straub & Kiladis (2002) to 20 days\"\n",
    "        wave_wavenumber=np.array([-28,-4],dtype='f')\n",
    "        wave_period=np.array([2.5,20],dtype='f')\n",
    "        wave_depth=np.array([mis,mis],dtype='f')  \n",
    "        \n",
    "    #################################################\n",
    "    # Filter \n",
    "    #################################################\n",
    "    print(\"\\n##############################\\nFiltering %s\\n\"%waveName)\n",
    "    for lat_counter in range(0,len(lat)):\n",
    "        wave[:,lat_counter,:]=kf_filter(filtData[:,lat_counter,:],obsPerDay,\\\n",
    "                       wave_period[0],wave_period[1],\\\n",
    "                       wave_wavenumber[0],wave_wavenumber[1],\\\n",
    "                       wave_depth[0],wave_depth[1],waveName)\n",
    "        \n",
    "    waveData = xr.DataArray(wave[0:len(obsTime),:].squeeze(),coords=coords,dims=dims)\n",
    "        \n",
    "    return waveData"
   ]
  },
  {
   "cell_type": "code",
   "execution_count": 26,
   "metadata": {},
   "outputs": [
    {
     "name": "stdout",
     "output_type": "stream",
     "text": [
      "{'minLat': 0, 'maxLat': 10, 'avgLat': True}\n",
      "\n",
      "##############################\n",
      "Filtering Kelvin\n",
      "\n",
      "<xarray.DataArray ()>\n",
      "array(0.271693)\n"
     ]
    }
   ],
   "source": [
    "waveData = filter_data_for_ccews(fname,obsVar,obsPerDay,waveName,avgLat=True)\n",
    "print(waveData.std())"
   ]
  },
  {
   "cell_type": "code",
   "execution_count": 27,
   "metadata": {},
   "outputs": [],
   "source": [
    "import matplotlib.path as mpath\n",
    "\n",
    "def get_hurricane():\n",
    "    u = np.array([  [2.444,7.553],\n",
    "                    [0.513,7.046],\n",
    "                    [-1.243,5.433],\n",
    "                    [-2.353,2.975],\n",
    "                    [-2.578,0.092],\n",
    "                    [-2.075,-1.795],\n",
    "                    [-0.336,-2.870],\n",
    "                    [2.609,-2.016]  ])\n",
    "    u[:,0] -= 0.098\n",
    "    codes = [1] + [2]*(len(u)-2) + [2] \n",
    "    u = np.append(u, -u[::-1], axis=0)\n",
    "    codes += codes\n",
    "\n",
    "    return mpath.Path(3*u, codes, closed=False)\n",
    "hurricane = get_hurricane()"
   ]
  },
  {
   "cell_type": "code",
   "execution_count": 28,
   "metadata": {},
   "outputs": [],
   "source": [
    "def find_closest_wave(df,waveData,waveSpd,threshold,method,init_time):\n",
    "    \n",
    "    tdelta = (((waveData.time[waveData.time==init_time]).squeeze()-waveData.time[0])/np.timedelta64(1, 'D')).values\n",
    "    waveDatadt = waveData.differentiate('time')\n",
    "\n",
    "    if (method=='min_cost_function'):\n",
    "        time_in_hrs = np.arange(0,len(waveData.time)*6,6)/24\n",
    "        [X,Y] = np.meshgrid(waveData.lon,time_in_hrs)\n",
    "\n",
    "        waveDatadt_pos = waveDatadt.where( (waveData/waveData.std(dim='time')>=threshold) )\n",
    "        print(waveData.min(),waveData.max())\n",
    "        plt.figure()\n",
    "        cs = plt.contour(X,Y,waveDatadt_pos,levels=[0],colors='k')\n",
    "        plt.close()\n",
    "\n",
    "        REarth = 6378.0\n",
    "        zerocnt_coords = cs.allsegs\n",
    "\n",
    "        C = 0.1*waveSpd\n",
    "        days_since_wave = []\n",
    "        tcs_on_peak = []\n",
    "        plt.figure(figsize=(10,10))\n",
    "        plt.contourf(X,Y, waveData, extend='both',\n",
    "                            cmap='gist_stern_r',levels=np.linspace(0.,1.25,13))\n",
    "        for i in range(0,len(df)):\n",
    "            fmin = 9.9e100\n",
    "            for segs in zerocnt_coords[0][:]:\n",
    "                # great circle distance. \n",
    "\n",
    "                lat1 = np.deg2rad(10.0)\n",
    "                lats = lat1\n",
    "                lon1 = np.deg2rad(df.lon.iloc[i])\n",
    "                lons = np.deg2rad(segs[:,0])\n",
    "                arg = np.sin(lat1)*np.sin(lats)+np.cos(lat1)*np.cos(lats)*np.cos(lon1-lons)\n",
    "                dx = np.arccos(arg)*REarth*1000.0\n",
    "                dt = ( (df.fhr.iloc[i]+tdelta*24.0)-(segs[:,1]*24.0))*3600.0 #dt in seconds\n",
    "\n",
    "                f = np.sqrt( (dx*dx)+(C*C*dt*dt))\n",
    "                if (np.min(f) < fmin):\n",
    "                    fmin = np.min(f)\n",
    "                    minind = np.argmin(f)\n",
    "                    minseg = segs\n",
    "\n",
    "            plt.plot(df.lon.iloc[i],tdelta+df.fhr.iloc[i]/24.0,'k',marker=hurricane,markersize=40,mfc='none',markeredgewidth=5)\n",
    "            plt.plot(minseg[:,0],minseg[:,1],c='k')\n",
    "            plt.plot( [minseg[minind,0],df.lon.iloc[i]],[minseg[minind,1],(tdelta+df.fhr.iloc[i]/24.0)],'--k')\n",
    "\n",
    "            if ( ((tdelta+df.fhr.iloc[i]/24.0)-minseg[minind,1] >= 0.5) & \\\n",
    "                 ((tdelta+df.fhr.iloc[i]/24.0)-minseg[minind,1] < 2.5)):\n",
    "                tcs_on_peak.append(df.ID.iloc[i])\n",
    "            days_since_wave.append( (tdelta+df.fhr.iloc[i]/24.0)-minseg[minind,1])\n",
    "\n",
    "        print(np.min(days_since_wave),np.max(days_since_wave))\n",
    "        plt.xlabel('longitude')\n",
    "        plt.ylabel('days')\n",
    "        plt.ylim([48,83])\n",
    "        plt.savefig('example_waves+TCs.png',bbox_inches='tight')\n",
    "        \n",
    "        return days_since_wave,tcs_on_peak\n",
    "    elif (method == 'wave_phase'):\n",
    "        \n",
    "        #normalize by the standard deviation\n",
    "        waveData = waveData/np.std(waveData)\n",
    "        waveDatadt = waveDatadt/np.std(waveDatadt)\n",
    "\n",
    "        #define the wave phases\n",
    "        phases_def = {\n",
    "            '1':[-np.pi/8.0,np.pi/8.0],\n",
    "            '8':[ np.pi/8.0,3.0*np.pi/8.0],\n",
    "            '7':[3.0*np.pi/8.0,5.0*np.pi/8.0],\n",
    "            '6':[5.0*np.pi/8.0,7.0*np.pi/8.0],\n",
    "            '5':[7.0*np.pi/8.0,9.0*np.pi/8.0],\n",
    "            '4':[9.0*np.pi/8.0,11.0*np.pi/8.0],\n",
    "            '3':[11.0*np.pi/8.0,13.0*np.pi/8.0],\n",
    "            '2':[13.0*np.pi/8.0,15.0*np.pi/8.0],\n",
    "        }\n",
    "        \n",
    "        def nearest_date(items,pivot):\n",
    "            nearest = min(items, key=lambda x: abs(x-pivot))\n",
    "            timedelta = (pivot-nearest)/np.timedelta64(1, 'D')\n",
    "            return nearest,timedelta\n",
    "\n",
    "        wavePhase_tcgen = []\n",
    "        waveInt_tcgen = []\n",
    "        waveTen_tcgen = []\n",
    "        days_since_wave = []\n",
    "        waveInt_closest2tcgen = []\n",
    "        dum = np.zeros(len(waveData.time))\n",
    "        for i in range(0,len(df)):\n",
    "\n",
    "            #time_of_tcgen = waveData.time[waveData.time==init_time].squeeze()+pd.to_timedelta(df.fhr.iloc[i],unit='h')\n",
    "            time_of_tcgen = np.datetime64(pd.to_datetime(df.valid_time.iloc[i],format='%Y-%m-%d_%H.%M.%S'))\n",
    "            #interpolate to desired longitude; extrapolate if the longitude is outside the longitude of data\n",
    "            waveInt = waveData.interp(lon=df.lon.iloc[i],kwargs={\"fill_value\": \"extrapolate\"})\n",
    "            waveTen = waveDatadt.interp(lon=df.lon.iloc[i],kwargs={\"fill_value\": \"extrapolate\"})\n",
    "\n",
    "            #save the normalized wave intensity at genesis time\n",
    "            waveInt_tcgen.extend(waveInt[waveInt.time==time_of_tcgen])\n",
    "            waveTen_tcgen.extend(waveTen[waveInt.time==time_of_tcgen])\n",
    "                        \n",
    "            #obtain angle between wave intensity and tendency\n",
    "            theta = xr.ufuncs.arctan2(waveTen,waveInt)\n",
    "            #pivot the angle so that it ranges from -pi/8 to 15*pi./8\n",
    "            theta = (theta+(2*np.pi))%(2*np.pi)\n",
    "            theta[theta>=15.0*np.pi/8.0] = theta[theta>=15.0*np.pi/8.0]-2.0*np.pi\n",
    "            #assign phase according to angle\n",
    "            phase = xr.DataArray(dum,coords=[waveData.time],dims=['time'])\n",
    "            for wp in phases_def:\n",
    "                phase[(theta>=phases_def[wp][0]) & (theta<phases_def[wp][1])]=int(wp)\n",
    "\n",
    "            #find the phase on the day of genesis\n",
    "            wavePhase_tcgen.extend(phase[phase.time==time_of_tcgen])\n",
    "            #find the no of days since the active wave went by the location of tcgen\n",
    "        #     phase[phase==8] = -1\n",
    "            active_wave = phase[(phase<=1) & ((waveInt**2.0+waveTen**2.0)**0.5 >= 1.0) ]\n",
    "            \n",
    "            nearest_time,dt = nearest_date(active_wave.time,waveInt.time[waveInt.time==time_of_tcgen])\n",
    "            days_since_wave.append(dt)\n",
    "            waveInt_closest2tcgen.extend(waveInt[waveInt.time==nearest_time])\n",
    "\n",
    "        return days_since_wave,wavePhase_tcgen,waveInt_tcgen,waveInt_closest2tcgen"
   ]
  },
  {
   "cell_type": "code",
   "execution_count": 29,
   "metadata": {},
   "outputs": [
    {
     "name": "stdout",
     "output_type": "stream",
     "text": [
      "<xarray.DataArray ()>\n",
      "array(-0.681947) <xarray.DataArray ()>\n",
      "array(1.460374)\n",
      "-9.508025612699448 17.892552702990997\n"
     ]
    },
    {
     "data": {
      "image/png": "[encoded data removed]",
      "text/plain": [
       "<Figure size 720x720 with 1 Axes>"
      ]
     },
     "metadata": {
      "needs_background": "light"
     },
     "output_type": "display_data"
    }
   ],
   "source": [
    "days_since_wave_tcs,tcs_on_peak = find_closest_wave(tcgen_info,waveData,14.5,1.0,'min_cost_function',init_time)"
   ]
  },
  {
   "cell_type": "code",
   "execution_count": 30,
   "metadata": {},
   "outputs": [],
   "source": [
    "# days_since_wave_ndv,ndv_on_peak = find_closest_wave(analogs_ndv,waveData,14.5,1.0,'min_cost_function',init_time)"
   ]
  },
  {
   "cell_type": "code",
   "execution_count": 31,
   "metadata": {},
   "outputs": [
    {
     "name": "stdout",
     "output_type": "stream",
     "text": [
      "0.0 9.183673469387756\n"
     ]
    },
    {
     "data": {
      "image/png": "[encoded data removed]",
      "text/plain": [
       "<Figure size 720x432 with 1 Axes>"
      ]
     },
     "metadata": {
      "needs_background": "light"
     },
     "output_type": "display_data"
    }
   ],
   "source": [
    "#increase font size\n",
    "plt.rcParams.update({'font.size': 18})\n",
    "\n",
    "bins = np.linspace(-11.5,11.5,24)\n",
    "plt.figure(figsize=(10,6))\n",
    "# hist,bin_edges,patches = plt.hist([days_since_wave_tcs,days_since_wave_ndv],bins=bins)\n",
    "hist,bin_edges,patches = plt.hist([days_since_wave_tcs],bins=bins,rwidth=0.75)\n",
    "\n",
    "plt.xlabel('days w.r.t. %s wave crest'%waveName)\n",
    "plt.ylabel('counts')\n",
    "# labels = ['DEV (N = %i)'%len(days_since_wave_tcs),'non-DEV (N = %i)'%len(days_since_wave_ndv)]\n",
    "# plt.legend(labels)\n",
    "# plt.title('Method #1')\n",
    "plt.xlim([-8.5,8.5])\n",
    "\n",
    "#test for statistical significance following Schreck (2015)\n",
    "# Defining model parameters\n",
    "p = 1/ (len(bins)-1)\n",
    "n = np.sum(hist)#[0])\n",
    "k = np.linspace(0,max(hist))#[0]))\n",
    "confidence = 0.99\n",
    "\n",
    "# Generating survival function distribution and computing the number of required trials\n",
    "binom = scipy.stats.binom.cdf(k, n, p)\n",
    "k_025 = k[binom>=1-confidence][0]\n",
    "k_975 = k[binom>=confidence][0]\n",
    "print(k_025,k_975)\n",
    "\n",
    "# Add mean and confidence intervals\n",
    "plt.axhline(np.mean(hist),color='k',linewidth=4)\n",
    "plt.axhline(k_025,color='k',linestyle='dashed')\n",
    "plt.axhline(k_975,color='k',linestyle='dashed')\n",
    "\n",
    "plt.savefig('histogram_DEV_wrt_%s_mincostfunc_%s.jpg'%(waveName,exp_name),bbox_inches='tight',dpi=150)"
   ]
  },
  {
   "cell_type": "markdown",
   "metadata": {},
   "source": [
    "### Method #2"
   ]
  },
  {
   "cell_type": "code",
   "execution_count": 13,
   "metadata": {},
   "outputs": [],
   "source": [
    "days_since_wave_tcs,wavePhase_tcgen_tcs,waveInt_tcgen_tcs,waveInt_closest_tcs = \\\n",
    "            find_closest_wave(tcgen_info,waveData,14.5,1.0,'wave_phase',init_time)"
   ]
  },
  {
   "cell_type": "code",
   "execution_count": 14,
   "metadata": {},
   "outputs": [],
   "source": [
    "# days_since_wave_ndv,wavePhase_tcgen_ndv,waveInt_tcgen_ndv,waveInt_closest_ndv = \\\n",
    "#             find_closest_wave(analogs_ndv,waveData,14.5,1.0,'wave_phase',init_time)"
   ]
  },
  {
   "cell_type": "code",
   "execution_count": 15,
   "metadata": {},
   "outputs": [
    {
     "data": {
      "text/plain": [
       "<matplotlib.lines.Line2D at 0x2b85c9cbaf98>"
      ]
     },
     "execution_count": 15,
     "metadata": {},
     "output_type": "execute_result"
    },
    {
     "data": {
      "image/png": "[encoded data removed]",
      "text/plain": [
       "<Figure size 720x432 with 1 Axes>"
      ]
     },
     "metadata": {
      "needs_background": "light"
     },
     "output_type": "display_data"
    }
   ],
   "source": [
    "#increase font size\n",
    "plt.rcParams.update({'font.size': 18})\n",
    "\n",
    "bins = np.linspace(-11.5,11.5,24)\n",
    "plt.figure(figsize=(10,6))\n",
    "# hist,bin_edges,patches = plt.hist([np.array(days_since_wave_tcs),np.array(days_since_wave_ndv)],bins=bins,alpha=0.75)\n",
    "hist,bin_edges,patches = plt.hist(np.array(days_since_wave_tcs),bins=bins,alpha=0.75,rwidth=0.75)\n",
    "plt.xlabel('days w.r.t. %s wave crest'%waveName)\n",
    "plt.ylabel('counts')\n",
    "plt.legend(labels)\n",
    "plt.title('Method #2')\n",
    "plt.xlim([-8.5,8.5])\n",
    "\n",
    "#test for statistical significance following Schreck (2015)\n",
    "# Defining model parameters\n",
    "p = 1/ (len(bins)-1)\n",
    "n = np.sum(hist)#[0])\n",
    "k = np.linspace(0,max(hist))#[0]))\n",
    "confidence = 0.9\n",
    "\n",
    "# Generating survival function distribution and computing the number of required trials\n",
    "binom = scipy.stats.binom.cdf(k, n, p)\n",
    "k_025 = k[binom>=1-confidence][0]\n",
    "k_975 = k[binom>=confidence][0]\n",
    "\n",
    "# Add mean and confidence intervals\n",
    "plt.axhline(np.mean(hist),color='k',linewidth=4)\n",
    "plt.axhline(k_025,color='k',linestyle='dashed')\n",
    "plt.axhline(k_975,color='k',linestyle='dashed')"
   ]
  },
  {
   "cell_type": "code",
   "execution_count": 16,
   "metadata": {},
   "outputs": [],
   "source": [
    "# confirmed: TCs are forming from \"AD\" or \"ER\"s"
   ]
  },
  {
   "cell_type": "code",
   "execution_count": 17,
   "metadata": {},
   "outputs": [
    {
     "data": {
      "text/plain": [
       "<matplotlib.legend.Legend at 0x2b85c9d12940>"
      ]
     },
     "execution_count": 17,
     "metadata": {},
     "output_type": "execute_result"
    },
    {
     "data": {
      "image/png": "[encoded data removed]",
      "text/plain": [
       "<Figure size 720x432 with 1 Axes>"
      ]
     },
     "metadata": {
      "needs_background": "light"
     },
     "output_type": "display_data"
    }
   ],
   "source": [
    "#increase font size\n",
    "plt.rcParams.update({'font.size': 18})\n",
    "\n",
    "bins = np.linspace(0.5,8.5,9)\n",
    "plt.figure(figsize=(10,6))\n",
    "# plt.hist([np.array(wavePhase_tcgen_tcs),np.array(wavePhase_tcgen_ndv)],bins=bins,alpha=0.75)\n",
    "plt.hist(np.array(wavePhase_tcgen_tcs),bins=bins,alpha=0.75)\n",
    "plt.xlabel('wave phase')\n",
    "plt.ylabel('counts')\n",
    "plt.legend(labels)"
   ]
  },
  {
   "cell_type": "code",
   "execution_count": 18,
   "metadata": {},
   "outputs": [
    {
     "data": {
      "text/plain": [
       "Text(0.5, 1.0, 'Method #2')"
      ]
     },
     "execution_count": 18,
     "metadata": {},
     "output_type": "execute_result"
    },
    {
     "data": {
      "image/png": "[encoded data removed]",
      "text/plain": [
       "<Figure size 720x432 with 1 Axes>"
      ]
     },
     "metadata": {
      "needs_background": "light"
     },
     "output_type": "display_data"
    }
   ],
   "source": [
    "#increase font size\n",
    "plt.rcParams.update({'font.size': 18})\n",
    "\n",
    "bins = np.linspace(-5.5,5.5,11)\n",
    "plt.figure(figsize=(10,6))\n",
    "# plt.hist([np.array(waveInt_tcgen_tcs),np.array(waveInt_tcgen_ndv)],bins=bins,alpha=0.75)\n",
    "plt.hist(np.array(waveInt_tcgen_tcs),bins=bins,alpha=0.75)\n",
    "plt.xlabel('wave intensity')\n",
    "plt.ylabel('counts')\n",
    "plt.legend(labels)\n",
    "plt.title('Method #2')\n",
    "\n",
    "# print(np.mean(waveInt_tcgen_tcs),np.mean(waveInt_tcgen_ndv))"
   ]
  },
  {
   "cell_type": "markdown",
   "metadata": {},
   "source": [
    "### Plot time-series of circulation leading to cyclogenesis/analog time \n",
    "(for TCs at 0.5-3.5 days after wave peak)"
   ]
  },
  {
   "cell_type": "code",
   "execution_count": null,
   "metadata": {},
   "outputs": [],
   "source": [
    "def get_avg_timeseries(subgroup,info):\n",
    "    plt.figure()\n",
    "\n",
    "    df_sub = df_all[df_all.ID.isin(subgroup)]\n",
    "    print(len(df_sub.ID.unique()))\n",
    "\n",
    "    out = []\n",
    "\n",
    "    for i in df_sub.ID.unique():\n",
    "        df_tc = df_sub[df_sub.ID==i]\n",
    "        df_tc['fhr'] = df_tc['fhr'].values-info[info.ID==i].fhr.values\n",
    "        out.append(df_tc)\n",
    "        plt.plot(df_tc.fhr.values,df_tc.vor850)\n",
    "    plt.xlim([-120,120])\n",
    "\n",
    "    out = pd.concat(out)\n",
    "    subgroup_avg = out.groupby('fhr').mean()\n",
    "    subgroup_std = out.groupby('fhr').std()\n",
    "    \n",
    "    return subgroup_avg,subgroup_std\n",
    "\n",
    "all_tcs = tcgen_info.ID.unique()\n",
    "all_ndv = analogs_ndv.ID.unique()\n",
    "print(len(tcs_on_peak),len(ndv_on_peak))\n",
    "avg_vor_tcs,std_vor_tcs = get_avg_timeseries(tcs_on_peak,tcgen_info)\n",
    "avg_vor_ndv,std_vor_ndv = get_avg_timeseries(ndv_on_peak,analogs_ndv)\n",
    "\n",
    "plt.figure(figsize=(10,6))\n",
    "plt.plot(avg_vor_tcs.index,avg_vor_tcs.vor850,linewidth=4)\n",
    "plt.fill_between(avg_vor_tcs.index, avg_vor_tcs.vor850-std_vor_tcs.vor850, \\\n",
    "                 avg_vor_tcs.vor850+std_vor_tcs.vor850, alpha=0.25)\n",
    "\n",
    "plt.plot(avg_vor_ndv.index,avg_vor_ndv.vor850,linewidth=4)\n",
    "plt.fill_between(avg_vor_ndv.index, avg_vor_ndv.vor850-std_vor_ndv.vor850, \\\n",
    "                 avg_vor_ndv.vor850+std_vor_ndv.vor850, alpha=0.25)\n",
    "plt.xlim([-72,72])\n",
    "plt.ylim([0,7.5])\n",
    "labels = ['DEV (N = %i)'%len(tcs_on_peak),'non-DEV (N = %i)'%len(ndv_on_peak)]\n",
    "plt.legend(labels,loc='upper left')\n",
    "plt.xlabel('time w.r.t. genesis (h)')\n",
    "plt.ylabel('600$-$850 hPa vorticity (10$^{-5}$ s$^{-1}$)')\n",
    "\n",
    "plt.vlines(0,0,avg_vor_tcs.vor850.max())\n",
    "\n",
    "plt.savefig('timeseries_DEVvsnonDEV_vor850.jpg',bbox_inches='tight',dpi=150)"
   ]
  },
  {
   "cell_type": "code",
   "execution_count": null,
   "metadata": {},
   "outputs": [],
   "source": [
    "df_sub = tcgen_info[tcgen_info.ID.isin(tcs_on_peak)]\n",
    "df_sub.to_csv('tcgen_info_DEV.csv',index=False)\n",
    "df_sub = analogs_ndv[analogs_ndv.ID.isin(ndv_on_peak)]\n",
    "df_sub.to_csv('tcgen_info_non-DEV.csv',index=False)"
   ]
  },
  {
   "cell_type": "markdown",
   "metadata": {},
   "source": [
    "### Next: center-relative hovmollers"
   ]
  },
  {
   "cell_type": "code",
   "execution_count": null,
   "metadata": {},
   "outputs": [],
   "source": [
    "my_dict = {\n",
    "    'pr': [1.0/6.0,'Blues', np.linspace(-0.02*1.5,0.34*1.5,19), 'rainfall rate anomaly (mm hr$^{-1}$)'],\n",
    "    'u850': [1,'RdBu_r',np.linspace(-5,5,21),'850-hPa zonal wind anomaly (m s$^{-1}$)'],\n",
    "    'v850': [1,'RdBu_r',np.linspace(-3,3,21),'850-hPa meridional wind anomaly (m s$^{-1}$)'],\n",
    "    'u200': [1,'RdBu_r',np.linspace(-3,3,21),'200-hPa zonal wind anomaly (m s$^{-1}$)'],\n",
    "    'precipw': [1,'BrBG',np.linspace(-5.0,5.0,21),'precipitable water anomaly (mm)'],\n",
    "    'ushr': [1,'PuOr',np.linspace(-2.5,2.5,21),'200-850 hPa zonal shear (m s$^{-1}$)'],\n",
    "    'vshr': [1,'PuOr',np.linspace(-2.5,2.5,21),'200-850 hPa meridional shear (m s$^{-1}$)'],\n",
    "    'shrmag': [1,'PuOr',np.linspace(-2.5,2.5,21),'200-850 hPa shear magnitude (m s$^{-1}$)'],\n",
    "    'vort850': [1.0e5,'RdGy',np.linspace(-1.5,1.5,21),'850-hPa relative vorticity anomaly (10$^{-5}$ s$^{-1}$)'],\n",
    "    'qv500':[1000.0,'BrBG',np.linspace(-0.6,0.6,21),'500-hPa water vapor mixing ratio (g kg$^{-1}$)'],\n",
    "    'rhmid':[1.0,'BrBG',np.linspace(-10.0,10.0,21),'500-700 hPa relative humidity (%)'],\n",
    "    'mslp': [1.0,'viridis',np.linspace(-10,10,21),'mslp'],\n",
    "    'hfx': [1.0,'RdBu_r',np.linspace(-10,10,21),'surface sensible heat flux (W m$^{-2}$)'],\n",
    "    'qfx': [2.5e6,'RdBu_r',np.linspace(-20,20,21),'surface latent heat flux (W m$^{-2}$)'],\n",
    "    'CI': [1.0,'RdBu_r',np.linspace(-1.25,1.25,21),'coupling index (K)'],\n",
    "    'olrtoa': [1.0,'Greys',np.linspace(-50,50,21),'outgoing longwave radiation anomaly (W m$^{-2}$)'],\n",
    "    'SF' : [1.0,'RdBu_r',np.linspace(-10,10,21),'total surface heat flux (W m$^{-2}$)'],\n",
    "    'div200': [1.0e5,'RdGy',np.linspace(-1.5,1.5,21),'200-hPa divergence anomaly (10$^{-5}$ s$^{-1}$)'],\n",
    "    'divlo': [1.0e5,'RdGy',np.linspace(-1.5,1.5,21),'850$-$1000-hPa divergence anomaly (10$^{-5}$ s$^{-1}$)']\n",
    "}"
   ]
  },
  {
   "cell_type": "code",
   "execution_count": null,
   "metadata": {},
   "outputs": [],
   "source": [
    "#increase font size\n",
    "plt.rcParams.update({'font.size': 18})\n",
    "def get_plot_hovmoller_wrt_genesis(fname,dLon,nDays,varname,df,init_time,**kwargs):\n",
    "        \n",
    "        def read_stormcentered_fields_timelon(fname,dLon,nDays,varname,df,init_time,plotting_options):\n",
    "            print(plotting_options)\n",
    "    \n",
    "            #read netcdf file\n",
    "            ds = xr.open_dataset(fname)\n",
    "            #drop unnecessary variables\n",
    "            ds = ds.drop([v for v in ds.variables if v not in ['time','lat','lon',varname]])\n",
    "            dx = np.abs(ds.lon[1].values-ds.lon[0].values)\n",
    "            obsTime = ds.time\n",
    "            ds = ds.sortby('lat')\n",
    "\n",
    "            lon_array_target = xr.DataArray(np.arange(-dLon,dLon+dx,dx))\n",
    "            tim_array_target = xr.DataArray(np.arange(-nDays,nDays+0.25,0.25))\n",
    "\n",
    "            if plotting_options['subtract_zonal_time_mean']:\n",
    "                time_zonal_mean_var = ds[varname].mean(dim=('time','lon'))\n",
    "                ds[varname] = ds[varname] - time_zonal_mean_var\n",
    "\n",
    "            if plotting_options['filtWaves']:\n",
    "                #calling filtering function\n",
    "                ds[varname] = filter_data_for_ccews(fname,varname,obsPerDay,waveName,minLat=0,maxLat=10,avgLat=False)\n",
    "\n",
    "            if (plotting_options['lat_option'] == 'eq'):\n",
    "                #subtract zonal and time mean at that latitude\n",
    "                lat1 = 0.0\n",
    "                lat2 = 10.0\n",
    "\n",
    "            centered_data_0s = np.zeros( (len(df),len(tim_array_target),len(lon_array_target)) )\n",
    "            centered_data_0s[:] = np.nan\n",
    "            IDs = np.arange(0,len(df))\n",
    "\n",
    "            ds_out = xr.DataArray(centered_data_0s,dims=('ID','time','lon'))\n",
    "\n",
    "            #loop through data, obtain datetime object for valid time, and get corresponding index\n",
    "            d = 0\n",
    "            for index, row in df.iterrows():\n",
    "                ctim = obsTime[obsTime==init_time].squeeze()+pd.to_timedelta(row['fhr'],unit='h')\n",
    "                clon = row['lon']\n",
    "\n",
    "                if (plotting_options['lat_option'] == 'TC'):\n",
    "                    lat1 = row['lat']-10.0\n",
    "                    lat2 = row['lat']+10.0\n",
    "\n",
    "                #we'd like to save nx x ny data points, but in some cases the points may be too close to the boundarys\n",
    "                tim1 = ctim-pd.to_timedelta(nDays,unit='D')\n",
    "                tim2 = ctim+pd.to_timedelta(nDays,unit='D')\n",
    "                lon1 = clon-dLon\n",
    "                lon2 = clon+dLon\n",
    "\n",
    "                var2tst = ds[varname].sel(time=slice(tim1,tim2),lat=slice(lat1,lat2))\n",
    "                var2tst['lon'] = var2tst.lon-ds.lon.sel(lon=clon,method='nearest')\n",
    "\n",
    "                if (var2tst.lon.max() < lon_array_target.max()):\n",
    "                    #need to find lon<-180 and add 360\n",
    "                    lon_temp = var2tst.lon.where(var2tst.lon>-180.0,var2tst.lon+360.0)\n",
    "                    #reassign longitude coordinate\n",
    "                    var2tst['lon'] = lon_temp\n",
    "                    #pivot around longitude 0 by finding longitudes <=0 and those > 0\n",
    "                    group1 = var2tst.where( (var2tst.lon > -180.0) & (var2tst.lon <= 0.0), drop=True )\n",
    "                    group2 = var2tst.where( (var2tst.lon > 0.0) & (var2tst.lon <= 180.0), drop=True )\n",
    "                    #make sure that the coordinate is in ascending order\n",
    "                    group2 = group2.sortby(group2.lon)\n",
    "                    del(var2tst)\n",
    "                    #finally merge the two!\n",
    "                    var2tst = xr.concat([group1,group2],dim='lon')\n",
    "                elif (var2tst.lon.min() > lon_array_target.min() ):\n",
    "                    lon_temp = var2tst.lon.where(var2tst.lon<180.0,var2tst.lon-360.0)\n",
    "                    var2tst['lon'] = lon_temp\n",
    "                    group1 = var2tst.where( (var2tst.lon > -180.0) & (var2tst.lon <= 0.0), drop=True )\n",
    "                    group2 = var2tst.where( (var2tst.lon > 0.0) & (var2tst.lon <= 180.0), drop=True )\n",
    "                    group1 = group1.sortby(group1.lon)\n",
    "                    group2 = group2.sortby(group2.lon)\n",
    "                    del(var2tst)\n",
    "                    var2tst = xr.concat([group1,group2],dim='lon')\n",
    "\n",
    "                var_intrp = var2tst.sel(lon=slice(-(dLon+dx/2),dLon+dx/2))\n",
    "\n",
    "                #subtract zonal and time mean\n",
    "                var_intrp = var_intrp\n",
    "\n",
    "                #transform time relative to genesis time\n",
    "                var_intrp['time'] = (var_intrp.time-ctim)/np.timedelta64(1,'D')\n",
    "\n",
    "                tim_rel = tim_array_target.where( (tim_array_target>=var_intrp.time.min()) & (tim_array_target<=var_intrp.time.max()) )\n",
    "                ds_out[d,tim_rel.argmin().values:tim_rel.argmax().values+1,:] = var_intrp.mean(dim='lat')\n",
    "\n",
    "    #             plt.figure()\n",
    "    #             plt.contourf(ds_out[d,:,:])\n",
    "    #             plt.title(row['ID'])\n",
    "    #             break\n",
    "                d += 1\n",
    "        \n",
    "            return ds_out,lon_array_target,tim_array_target\n",
    "        \n",
    "\n",
    "        plotting_options = {\n",
    "            'filtWaves' : False,\n",
    "            'lat_option' :'eq',\n",
    "            'subtract_zonal_time_mean' : True,\n",
    "            'overlay' : False\n",
    "        }\n",
    "\n",
    "        for keys in kwargs:\n",
    "            plotting_options[keys] = kwargs[keys]\n",
    "        \n",
    "        fig, ax = plt.subplots(figsize=(12,8))\n",
    "\n",
    "        if (plotting_options['overlay']):\n",
    "            varname1 = varname\n",
    "            varname2 = kwargs['varname2']\n",
    "            plotting_options_var1 = plotting_options.copy()\n",
    "            plotting_options_var2 = plotting_options.copy()\n",
    "                        \n",
    "            for keys in kwargs:\n",
    "                if (\"var1\" in keys):\n",
    "                    delim = \"_\"\n",
    "                    keys1 = keys.split(delim)[:-1]\n",
    "                    plotting_options_var1[delim.join(keys1)]=kwargs[keys]\n",
    "                elif (\"var2\" in keys):\n",
    "                    delim = \"_\"\n",
    "                    keys2 = keys.split(delim)[:-1]\n",
    "                    plotting_options_var2[delim.join(keys2)]=kwargs[keys]\n",
    "\n",
    "\n",
    "            centered_data,lon,time = read_stormcentered_fields_timelon(fname,dLon,nDays,varname1,df,init_time,plotting_options_var1)\n",
    "            centered_data_avg1 = centered_data.mean(dim='ID')*my_dict[varname1][0]\n",
    "            centered_data,lon,time = read_stormcentered_fields_timelon(fname,dLon,nDays,varname2,df,init_time,plotting_options_var2)\n",
    "            centered_data_avg2 = centered_data.mean(dim='ID')*my_dict[varname2][0]\n",
    "            [X,Y] = np.meshgrid(lon,time)\n",
    "\n",
    "            cf = ax.contourf(X,Y,centered_data_avg1,extend='both',cmap=my_dict[varname][1], \n",
    "                          levels=my_dict[varname1][2])#,norm=norm,cmap=cmap)\n",
    "            cl = ax.contour(X,Y,centered_data_avg2,colors='m',linewidth=4,levels=[0.1,0.2,0.3,0.4,0.5])\n",
    "            \n",
    "        else:\n",
    "            centered_data,lon,time = read_stormcentered_fields_timelon(fname,dLon,nDays,varname,df,init_time,plotting_options)\n",
    "            centered_data_avg = centered_data.mean(dim='ID')*my_dict[varname][0]\n",
    "            print(centered_data_avg.min(),centered_data_avg.max())\n",
    "            [X,Y] = np.meshgrid(lon,time)\n",
    "\n",
    "            cf = ax.contourf(X,Y,centered_data_avg,extend='both',cmap=my_dict[varname][1], \n",
    "                          levels=my_dict[varname][2])#,norm=norm,cmap=cmap)\n",
    "            cl = ax.contour(X,Y,centered_data_avg,levels=[0.],colors='k',linestyles='dashed')\n",
    "    \n",
    "#     with open('test_%s_%s.npy'%(exps[n],varname), 'wb') as f:\n",
    "#         np.save(f,centered_data_avg)\n",
    "        \n",
    "        ax.set_xlabel('longitude w.r.t. cyclogenesis')\n",
    "        ax.set_ylabel('days w.r.t. cyclogenesis')\n",
    "        plt.hlines(0,-dLon,dLon)\n",
    "        plt.vlines(0,-nDays,nDays)\n",
    "        ax.grid(True)\n",
    "    \n",
    "        cbar_ax = fig.add_axes([0.2, -0.05, 0.6, 0.02])\n",
    "        cbar=fig.colorbar(cf, cax=cbar_ax,orientation='horizontal')\n",
    "        cbar.set_label(my_dict[varname][3])\n",
    "        fig.tight_layout(pad=0.1)\n",
    "        plt.savefig(varname+'_wrt_cyclogenesis_%s.png'%exp_name,bbox_inches='tight')"
   ]
  },
  {
   "cell_type": "markdown",
   "metadata": {},
   "source": [
    "### Developers"
   ]
  },
  {
   "cell_type": "code",
   "execution_count": null,
   "metadata": {},
   "outputs": [],
   "source": [
    "dLon=35.1\n",
    "nDays=10\n",
    "lat_option='eq'\n",
    "df = tcgen_info[tcgen_info.ID.isin(tcs_on_peak)]"
   ]
  },
  {
   "cell_type": "code",
   "execution_count": null,
   "metadata": {},
   "outputs": [],
   "source": [
    "# varname = 'pr'\n",
    "# get_plot_hovmoller_wrt_genesis(fname,dLon,nDays,varname,df,init_time,lat_option='eq',varname2='pr',\n",
    "#                                filtWaves_var2=True,subtract_zonal_time_mean_var2=False,overlay=True)"
   ]
  },
  {
   "cell_type": "code",
   "execution_count": null,
   "metadata": {},
   "outputs": [],
   "source": [
    "# varname = 'pr'\n",
    "# get_plot_hovmoller_wrt_genesis(fname,dLon,nDays,varname,df,init_time,lat_option=lat_option,filtWaves='True',subtract_zonal_time_mean=False)"
   ]
  },
  {
   "cell_type": "code",
   "execution_count": null,
   "metadata": {},
   "outputs": [],
   "source": [
    "# varname = 'u850'\n",
    "# get_plot_hovmoller_wrt_genesis(fname,dLon,nDays,varname,df,init_time,lat_option=lat_option)"
   ]
  },
  {
   "cell_type": "code",
   "execution_count": null,
   "metadata": {},
   "outputs": [],
   "source": [
    "# varname = 'v850'\n",
    "# get_plot_hovmoller_wrt_genesis(fname,dLon,nDays,varname,df,init_time,lat_option=lat_option)"
   ]
  },
  {
   "cell_type": "code",
   "execution_count": null,
   "metadata": {},
   "outputs": [],
   "source": [
    "# varname = 'precipw'\n",
    "# get_plot_hovmoller_wrt_genesis(fname,dLon,nDays,varname,df,init_time,lat_option=lat_option)"
   ]
  },
  {
   "cell_type": "markdown",
   "metadata": {},
   "source": [
    "### Non-developers"
   ]
  },
  {
   "cell_type": "code",
   "execution_count": null,
   "metadata": {},
   "outputs": [],
   "source": [
    "df = analogs_ndv[analogs_ndv.ID.isin(ndv_on_peak)]"
   ]
  },
  {
   "cell_type": "code",
   "execution_count": null,
   "metadata": {},
   "outputs": [],
   "source": [
    "# varname = 'pr'\n",
    "# get_plot_hovmoller_wrt_genesis(fname,dLon,nDays,varname,df,init_time,lat_option='eq',varname2='pr',\n",
    "#                                filtWaves_var2=True,subtract_zonal_time_mean_var2=False,overlay=True)"
   ]
  },
  {
   "cell_type": "code",
   "execution_count": null,
   "metadata": {},
   "outputs": [],
   "source": [
    "# get_plot_hovmoller_wrt_genesis(fname,dLon,nDays,varname,df,init_time,lat_option=lat_option,filtWaves='True',subtract_zonal_time_mean=False)"
   ]
  },
  {
   "cell_type": "code",
   "execution_count": null,
   "metadata": {},
   "outputs": [],
   "source": [
    "# varname = 'u850'\n",
    "# get_plot_hovmoller_wrt_genesis(fname,dLon,nDays,varname,df,init_time,lat_option=lat_option)"
   ]
  },
  {
   "cell_type": "code",
   "execution_count": null,
   "metadata": {},
   "outputs": [],
   "source": [
    "# varname = 'precipw'\n",
    "# get_plot_hovmoller_wrt_genesis(fname,dLon,nDays,varname,df,init_time,lat_option=lat_option)"
   ]
  },
  {
   "cell_type": "code",
   "execution_count": null,
   "metadata": {},
   "outputs": [],
   "source": []
  },
  {
   "cell_type": "markdown",
   "metadata": {},
   "source": [
    "Hypothesis: ${\\color{red} {\\text{strong, broad}}}$ Kelvin waves </font> are the ones that help w/ TC genesis!!! </font> \n",
    "\n",
    "Can be tested with maps..."
   ]
  },
  {
   "cell_type": "markdown",
   "metadata": {},
   "source": [
    "### Horizontal maps"
   ]
  },
  {
   "cell_type": "code",
   "execution_count": null,
   "metadata": {},
   "outputs": [],
   "source": [
    "def gcdist(lon1,lons,lat1,lats):\n",
    "        lon1 = np.radians(lon1)\n",
    "        lons = np.radians(lons)\n",
    "        lat1 = np.radians(lat1)\n",
    "        lats = np.radians(lats)\n",
    "        # great circle distance. \n",
    "        arg = np.sin(lat1)*np.sin(lats)+np.cos(lat1)*np.cos(lats)*np.cos(lon1-lons)\n",
    "        \n",
    "        # Ellipsoid [CLARKE 1866]  Semi-Major Axis (Equatorial Radius)\n",
    "        a = 6378.2064\n",
    "        return np.arccos(arg)* a        "
   ]
  },
  {
   "cell_type": "code",
   "execution_count": null,
   "metadata": {},
   "outputs": [],
   "source": [
    "def get_plot_2d_wrt_genesis(fname,dLon,dLat,nDays,varname,df,init_time,**kwargs):\n",
    "\n",
    "        def read_stormcentered_fields_latlon(ds,dLon,dLat,nDays,varname,df,init_time,plotting_options):\n",
    "                        \n",
    "            lon_array_target = xr.DataArray(np.arange(-dLon,dLon+dx,dx))\n",
    "            lat_array_target = xr.DataArray(np.arange(-dLat,dLat+dx,dx))\n",
    "\n",
    "            if (plotting_options['lat_option'] == 'eq'):\n",
    "                #subtract zonal and time mean at that latitude\n",
    "                clat = plotting_options['clat']\n",
    "\n",
    "            centered_data_0s = np.zeros( (len(df),len(lat_array_target),len(lon_array_target)) )\n",
    "            centered_data_0s[:] = np.nan\n",
    "            IDs = np.arange(0,len(df))\n",
    "\n",
    "            ds_out = xr.DataArray(centered_data_0s,dims=('ID','lat','lon'))#,coords=(IDs,tim_array_target,lon_array_target),dims=('ID','time','lon'))\n",
    "\n",
    "            #loop through data, obtain datetime object for valid time, and get corresponding index\n",
    "            d = 0\n",
    "            for index, row in df.iterrows():\n",
    "                ctim = obsTime[obsTime==init_time].squeeze()+pd.to_timedelta(row['fhr'],unit='h')+pd.to_timedelta(nDays,unit='D')\n",
    "                clon = row['lon']\n",
    "\n",
    "                if (plotting_options['lat_option'] == 'TC'):\n",
    "                    clat = row['lat']\n",
    "\n",
    "                var2tst = ds[varname].sel(time=ctim)\n",
    "                \n",
    "                if (plotting_options['TC_removal']):\n",
    "                    df_sub = df_all[df_all.fhr==(row['fhr']+(nDays*24))]\n",
    "\n",
    "                    for index_sub, row_sub in df_sub.iterrows():\n",
    "                        dist = gcdist(row_sub['lon'],ds.lon,row_sub['lat'],ds.lat)\n",
    "                        var2tst_tc = var2tst.where(dist<=300.0,0.)\n",
    "                        var2tst = var2tst-var2tst_tc    \n",
    "                        \n",
    "                var2tst['lon'] = var2tst.lon-ds.lon.sel(lon=clon,method='nearest')\n",
    "                var2tst['lat'] = var2tst.lat-ds.lat.sel(lat=clat,method='nearest')\n",
    "\n",
    "                if (var2tst.lon.max() < lon_array_target.max()):\n",
    "                    #need to find lon<-180 and add 360\n",
    "                    lon_temp = var2tst.lon.where(var2tst.lon>-180.0,var2tst.lon+360.0)\n",
    "                    #reassign longitude coordinate\n",
    "                    var2tst['lon'] = lon_temp\n",
    "                    #pivot around longitude 0 by finding longitudes <=0 and those > 0\n",
    "                    group1 = var2tst.where( (var2tst.lon > -180.0) & (var2tst.lon <= 0.0), drop=True )\n",
    "                    group2 = var2tst.where( (var2tst.lon > 0.0) & (var2tst.lon <= 180.0), drop=True )\n",
    "                    #make sure that the coordinate is in ascending order\n",
    "                    group2 = group2.sortby(group2.lon)\n",
    "                    del(var2tst)\n",
    "                    #finally merge the two!\n",
    "                    var2tst = xr.concat([group1,group2],dim='lon')\n",
    "                elif (var2tst.lon.min() > lon_array_target.min() ):\n",
    "                    lon_temp = var2tst.lon.where(var2tst.lon<180.0,var2tst.lon-360.0)\n",
    "                    var2tst['lon'] = lon_temp\n",
    "                    group1 = var2tst.where( (var2tst.lon > -180.0) & (var2tst.lon <= 0.0), drop=True )\n",
    "                    group2 = var2tst.where( (var2tst.lon > 0.0) & (var2tst.lon <= 180.0), drop=True )\n",
    "                    group1 = group1.sortby(group1.lon)\n",
    "                    group2 = group2.sortby(group2.lon)\n",
    "                    del(var2tst)\n",
    "                    var2tst = xr.concat([group1,group2],dim='lon')\n",
    "\n",
    "                var_intrp = var2tst.sel(lon=slice(-(dLon+dx/2),dLon+dx/2),lat=slice(-(dLat+dx/2),dLat+dx/2))\n",
    "\n",
    "                ds_out[d,:,:] = var_intrp\n",
    "\n",
    "                if (plot_individual_tcs):\n",
    "                    plt.figure()\n",
    "                    plt.contourf(ds_out[d,:,:])\n",
    "                    plt.title(row['ID'])\n",
    "\n",
    "                d += 1\n",
    "            print('total no. tcs in composite: %i'%d)\n",
    "            return ds_out,lon_array_target,lat_array_target\n",
    "\n",
    "\n",
    "        plotting_options = {\n",
    "            'filtWaves' : False,\n",
    "            'lat_option' :'eq',\n",
    "            'clat' : 15.0,\n",
    "            'subtract_zonal_time_mean' : True,\n",
    "            'overlay' : False,\n",
    "            'TC_removal' : False\n",
    "        }\n",
    "\n",
    "        for keys in kwargs:\n",
    "            plotting_options[keys] = kwargs[keys]\n",
    "            \n",
    "        print(plotting_options)\n",
    "            \n",
    "        #read netcdf file\n",
    "        ds = xr.open_dataset(fname)\n",
    "        obsTime = ds.time\n",
    "\n",
    "        #drop unnecessary variables\n",
    "        keep_vars = ['time','lat','lon',varname]\n",
    "        \n",
    "        ds = ds.drop([v for v in ds.variables if v not in ['time','lat','lon',varname]])\n",
    "        dx = np.abs(ds.lon[1].values-ds.lon[0].values)\n",
    "        obsTime = ds.time\n",
    "        ds = ds.sortby('lat')\n",
    "            \n",
    "        if (plotting_options['overlay']):\n",
    "            varname1 = varname\n",
    "            varname2 = kwargs['varname2']\n",
    "            plotting_options_var1 = plotting_options.copy()\n",
    "            plotting_options_var2 = plotting_options.copy()\n",
    "                        \n",
    "            for keys in kwargs:\n",
    "                if (\"var1\" in keys):\n",
    "                    delim = \"_\"\n",
    "                    keys1 = keys.split(delim)[:-1]\n",
    "                    plotting_options_var1[delim.join(keys1)]=kwargs[keys]\n",
    "                elif (\"var2\" in keys):\n",
    "                    delim = \"_\"\n",
    "                    keys2 = keys.split(delim)[:-1]\n",
    "                    plotting_options_var2[delim.join(keys2)]=kwargs[keys]\n",
    "                    \n",
    "            #subtract mean or filter for each wave\n",
    "            if plotting_options_var1['subtract_zonal_time_mean']:\n",
    "                time_zonal_mean_var = ds[varname1].mean(dim=('time','lon'))\n",
    "                ds[varname1] = ds[varname1] - time_zonal_mean_var\n",
    "\n",
    "            if plotting_options_var2['filtWaves']:\n",
    "                #calling filtering function\n",
    "                ds[varname2] = filter_data_for_ccews(fname,varname2,obsPerDay,waveName,minLat=-5,maxLat=15,avgLat=False)\n",
    "            \n",
    "        for lag in nDays:\n",
    "\n",
    "            fig, ax = plt.subplots(figsize=(16,4))\n",
    "            \n",
    "            if (plotting_options['overlay']):\n",
    "                                \n",
    "                centered_data,lon,lat = read_stormcentered_fields_latlon(ds,dLon,dLat,lag,varname1,df,init_time,plotting_options_var1)\n",
    "                centered_data_avg1 = centered_data.mean(dim='ID')*my_dict[varname1][0]\n",
    "                centered_data,lon,lat = read_stormcentered_fields_latlon(ds,dLon,dLat,lag,varname2,df,init_time,plotting_options_var2)\n",
    "                centered_data_avg2 = centered_data.mean(dim='ID')*my_dict[varname2][0]\n",
    "                print(centered_data_avg1.min(),centered_data_avg1.max())\n",
    "                if (plotting_options['lat_option'] == 'eq'):\n",
    "                    lat = lat+plotting_options['clat']\n",
    "                [X,Y] = np.meshgrid(lon,lat)\n",
    "                cf = ax.contourf(X,Y,centered_data_avg1,extend='both',cmap=my_dict[varname][1], \n",
    "                                   levels=my_dict[varname][2])#,norm=norm,cmap=cmap)\n",
    "                cl = ax.contour(X,Y,centered_data_avg2,colors='k',levels=[0.1,0.2,0.3,0.4,0.5,0.6,0.7,0.8])\n",
    "                \n",
    "            else:\n",
    "                \n",
    "                if plotting_options['subtract_zonal_time_mean']:\n",
    "                    time_zonal_mean_var = ds[varname].mean(dim=('time','lon'))\n",
    "                    ds[varname] = ds[varname] - time_zonal_mean_var\n",
    "\n",
    "                if plotting_options['filtWaves']:\n",
    "                    #calling filtering function\n",
    "                    ds[varname] = filter_data_for_ccews(fname,obsVar,obsPerDay,waveName,minLat=plotting_options['clat']-dLat,maxLat=plotting_options['clat']+dLat,avgLat=False)\n",
    "                    \n",
    "                centered_data,lon,lat = read_stormcentered_fields_latlon(ds,dLon,dLat,lag,varname,df,init_time,plotting_options)\n",
    "                centered_data_avg = centered_data.mean(dim='ID')*my_dict[varname][0]\n",
    "                print(centered_data_avg.min(),centered_data_avg.max())\n",
    "            \n",
    "                if (plotting_options['lat_option'] == 'eq'):\n",
    "                    lat = lat+plotting_options['clat']\n",
    "                [X,Y] = np.meshgrid(lon,lat)\n",
    "                cf = ax.contourf(X,Y,centered_data_avg,extend='both',cmap=my_dict[varname][1], \n",
    "                                   levels=my_dict[varname][2])#,norm=norm,cmap=cmap)\n",
    "                cl = ax.contour(X,Y,centered_data_avg,levels=[0.],colors='k',linestyles='dashed')\n",
    "                \n",
    "            ax.set_xlabel('longitude w.r.t. cyclogenesis')\n",
    "            ax.set_ylabel('latitude')\n",
    "    #        plt.hlines(0,-dLon,dLon)\n",
    "            plt.vlines(0,np.min(lat),np.max(lat))\n",
    "            ax.grid(True)\n",
    "            plt.title('t = %i days'%lag)\n",
    "\n",
    "            cbar_ax = fig.add_axes([0.2, -0.05, 0.6, 0.02])\n",
    "            cbar=fig.colorbar(cf, cax=cbar_ax,orientation='horizontal')\n",
    "            cbar.set_label(my_dict[varname][3])\n",
    "            fig.tight_layout(pad=0.1)\n",
    "            \n",
    "            #add panel labels\n",
    "            plt.text(left, top, '%s (N = %i)'%(TCgroup,len(df)),\n",
    "            horizontalalignment='left',\n",
    "            verticalalignment='top',\n",
    "            transform=ax.transAxes,\n",
    "            fontsize='18', bbox=dict(facecolor='white'))\n",
    "        \n",
    "            plt.savefig('%s_latlon_%s_%s_%sdays.jpg'%(varname,exp_name,TCgroup,lag),bbox_inches='tight',dpi=150)"
   ]
  },
  {
   "cell_type": "code",
   "execution_count": null,
   "metadata": {},
   "outputs": [],
   "source": [
    "dLat = 35.1/4.0\n",
    "dLon = 35.1\n",
    "varname = 'pr'\n",
    "plot_individual_tcs = False\n",
    "lat_option = 'eq'\n",
    "df = tcgen_info[tcgen_info.ID.isin(tcs_on_peak)]\n",
    "print(len(tcs_on_peak))\n",
    "\n",
    "# #lag=np.arange(-10,3,1)\n",
    "# nDays = [-2]\n",
    "# get_plot_2d_wrt_genesis(fname,dLon,dLat,nDays,varname,df,init_time,lat_option=lat_option,filtWaves=True,subtract_zonal_time_mean=False)"
   ]
  },
  {
   "cell_type": "code",
   "execution_count": null,
   "metadata": {},
   "outputs": [],
   "source": [
    "nDays = [-5,-3,-2,-1,0,1,2]\n",
    "varname = 'u850'\n",
    "TCgroup = 'DEV'\n",
    "get_plot_2d_wrt_genesis(fname,dLon,dLat,nDays,varname,df,init_time,lat_option=lat_option,clat=dLat/2,\n",
    "                        filtWaves=False,subtract_zonal_time_mean=True,overlay=True,varname2='pr',\n",
    "                        filtWaves_var2=True,subtract_zonal_time_mean_var2=False,TC_removal=False,TC_removal_var2=False)"
   ]
  },
  {
   "cell_type": "code",
   "execution_count": null,
   "metadata": {},
   "outputs": [],
   "source": [
    "df = analogs_ndv[analogs_ndv.ID.isin(ndv_on_peak)]\n",
    "TCgroup = 'non-DEV'\n",
    "print(len(ndv_on_peak))"
   ]
  },
  {
   "cell_type": "code",
   "execution_count": null,
   "metadata": {},
   "outputs": [],
   "source": [
    "nDays = [-5,-4,-3,-2,-1,0,1,2]\n",
    "varname = 'u850'\n",
    "get_plot_2d_wrt_genesis(fname,dLon,dLat,nDays,varname,df,init_time,lat_option=lat_option,clat=dLat/2,\n",
    "                        filtWaves=False,subtract_zonal_time_mean=True,overlay=True,varname2='pr',\n",
    "                        filtWaves_var2=True,subtract_zonal_time_mean_var2=False)"
   ]
  },
  {
   "cell_type": "markdown",
   "metadata": {},
   "source": [
    "--To do-- \n",
    "(1) incorporate option to have 2 variables with contour colors and contour lines in plotting functions, (2) add function that plots zonally averaged profiles (to check for barotropic instability)"
   ]
  },
  {
   "cell_type": "code",
   "execution_count": null,
   "metadata": {},
   "outputs": [],
   "source": [
    "def get_plot_zonally_avgd_profiles_wrt_genesis(fname,dLon,dLat,nDays,varname,df1,df2,init_time,**kwargs):\n",
    "    \n",
    "        def read_stormcentered_zonally_avg_fields(ds,dLon,dLat,nDays,varname,df,init_time,plotting_options):\n",
    "            \n",
    "            lon_array_target = xr.DataArray(np.arange(-dLon,dLon+dx,dx))\n",
    "            lat_array_target = xr.DataArray(np.arange(-dLat,dLat+dx,dx))\n",
    "\n",
    "            if (plotting_options['lat_option'] == 'eq'):\n",
    "                #subtract zonal and time mean at that latitude\n",
    "                clat = plotting_options['clat']\n",
    "\n",
    "            centered_data_0s = np.zeros( (len(df),len(lat_array_target)) )\n",
    "            centered_data_0s[:] = np.nan\n",
    "            IDs = np.arange(0,len(df))\n",
    "\n",
    "            ds_out = xr.DataArray(centered_data_0s,dims=('ID','lat'))#,coords=(IDs,tim_array_target,lon_array_target),dims=('ID','time','lon'))\n",
    "\n",
    "            #loop through data, obtain datetime object for valid time, and get corresponding index\n",
    "            d = 0\n",
    "            for index, row in df.iterrows():\n",
    "                ctim = obsTime[obsTime==init_time].squeeze()+pd.to_timedelta(row['fhr'],unit='h')+pd.to_timedelta(nDays,unit='D')\n",
    "                clon = row['lon']\n",
    "\n",
    "                if (plotting_options['lat_option'] == 'TC'):\n",
    "                    clat = row['lat']\n",
    "\n",
    "                var2tst = ds[varname].sel(time=ctim)\n",
    "                \n",
    "                if (plotting_options['TC_removal']):\n",
    "   \n",
    "                    df_sub = df_all[df_all.fhr==(row['fhr']+(nDays*24))]\n",
    "\n",
    "                    for index_sub, row_sub in df_sub.iterrows():\n",
    "                        dist = gcdist(row_sub['lon'],ds.lon,row_sub['lat'],ds.lat)\n",
    "                        var2tst_tc = var2tst.where(dist<=300.0,0.)\n",
    "                        var2tst = var2tst-var2tst_tc                     \n",
    "                \n",
    "                var2tst['lon'] = var2tst.lon-ds.lon.sel(lon=clon,method='nearest')\n",
    "                var2tst['lat'] = var2tst.lat-ds.lat.sel(lat=clat,method='nearest')\n",
    "\n",
    "                if (var2tst.lon.max() < lon_array_target.max()):\n",
    "                    #need to find lon<-180 and add 360\n",
    "                    lon_temp = var2tst.lon.where(var2tst.lon>-180.0,var2tst.lon+360.0)\n",
    "                    #reassign longitude coordinate\n",
    "                    var2tst['lon'] = lon_temp\n",
    "                    #pivot around longitude 0 by finding longitudes <=0 and those > 0\n",
    "                    group1 = var2tst.where( (var2tst.lon > -180.0) & (var2tst.lon <= 0.0), drop=True )\n",
    "                    group2 = var2tst.where( (var2tst.lon > 0.0) & (var2tst.lon <= 180.0), drop=True )\n",
    "                    #make sure that the coordinate is in ascending order\n",
    "                    group2 = group2.sortby(group2.lon)\n",
    "                    del(var2tst)\n",
    "                    #finally merge the two!\n",
    "                    var2tst = xr.concat([group1,group2],dim='lon')\n",
    "                elif (var2tst.lon.min() > lon_array_target.min() ):\n",
    "                    lon_temp = var2tst.lon.where(var2tst.lon<180.0,var2tst.lon-360.0)\n",
    "                    var2tst['lon'] = lon_temp\n",
    "                    group1 = var2tst.where( (var2tst.lon > -180.0) & (var2tst.lon <= 0.0), drop=True )\n",
    "                    group2 = var2tst.where( (var2tst.lon > 0.0) & (var2tst.lon <= 180.0), drop=True )\n",
    "                    group1 = group1.sortby(group1.lon)\n",
    "                    group2 = group2.sortby(group2.lon)\n",
    "                    del(var2tst)\n",
    "                    var2tst = xr.concat([group1,group2],dim='lon')\n",
    "\n",
    "                var_intrp = var2tst.sel(lon=slice(-(dLon+dx/2),dLon+dx/2),lat=slice(-(dLat+dx/2),dLat+dx/2))\n",
    "\n",
    "                ds_out[d,:] = var_intrp.mean(dim='lon')\n",
    "\n",
    "                if (plot_individual_tcs):\n",
    "                    plt.figure()\n",
    "                    plt.plot(ds_out[d,:])\n",
    "                    plt.title(row['ID'])\n",
    "\n",
    "                d += 1\n",
    "\n",
    "            print('total no. tcs in composite: %i'%d)\n",
    "            return ds_out,lat_array_target\n",
    "\n",
    "\n",
    "        plotting_options = {\n",
    "            'filtWaves' : False,\n",
    "            'lat_option' :'eq',\n",
    "            'clat' : 15.0,\n",
    "            'subtract_zonal_time_mean' : True,\n",
    "            'overlay' : False,\n",
    "            'TC_removal' : False\n",
    "        }\n",
    "\n",
    "        for keys in kwargs:\n",
    "            plotting_options[keys] = kwargs[keys]\n",
    "            \n",
    "        print(plotting_options)\n",
    "            \n",
    "        #read netcdf file\n",
    "        ds = xr.open_dataset(fname)\n",
    "        obsTime = ds.time\n",
    "        \n",
    "        if (varname == 'SF'):\n",
    "            ds[varname] = ds.hfx + ds.qfx*2.5e6\n",
    "\n",
    "        #drop unnecessary variables\n",
    "        ds = ds.drop([v for v in ds.variables if v not in ['time','lat','lon',varname]])\n",
    "        dx = np.abs(ds.lon[1].values-ds.lon[0].values)\n",
    "        obsTime = ds.time\n",
    "        ds = ds.sortby('lat')\n",
    "        \n",
    "        if ('vor' in varname):\n",
    "            ds[varname] = ds[varname] + (2.0*7.292e-5)*xr.ufuncs.sin(xr.ufuncs.radians(ds.lat))\n",
    "            \n",
    "        if plotting_options['subtract_zonal_time_mean']:\n",
    "            time_zonal_mean_var = ds[varname].mean(dim=('time','lon'))\n",
    "            ds[varname] = ds[varname] - time_zonal_mean_var\n",
    "\n",
    "        if plotting_options['filtWaves']:\n",
    "            #calling filtering function\n",
    "            ds[varname] = filter_data_for_ccews(fname,obsVar,obsPerDay,waveName,minLat=0,maxLat=33,avgLat=False)\n",
    "            \n",
    "        if (plotting_options['overlay']):\n",
    "            varname1 = varname\n",
    "            varname2 = kwargs['varname2']\n",
    "            plotting_options_var1 = plotting_options.copy()\n",
    "            plotting_options_var2 = plotting_options.copy()\n",
    "                        \n",
    "            for keys in kwargs:\n",
    "                if (\"var1\" in keys):\n",
    "                    delim = \"_\"\n",
    "                    keys1 = keys.split(delim)[:-1]\n",
    "                    plotting_options_var1[delim.join(keys1)]=kwargs[keys]\n",
    "                elif (\"var2\" in keys):\n",
    "                    delim = \"_\"\n",
    "                    keys2 = keys.split(delim)[:-1]\n",
    "                    plotting_options_var2[delim.join(keys2)]=kwargs[keys]\n",
    "            \n",
    "        for lag in nDays:\n",
    "\n",
    "            fig, ax = plt.subplots(figsize=(6,8))\n",
    "            \n",
    "            if (plotting_options['overlay']):\n",
    "                centered_data,lat = read_stormcentered_zonally_avg_fields(ds,dLon,dLat,lag,varname1,df,init_time,plotting_options_var1)\n",
    "                centered_data_avg1 = centered_data.mean(dim='ID')*my_dict[varname1][0]\n",
    "                centered_data,lat = rread_stormcentered_zonally_avg_fields(ds,dLon,dLat,lag,varname2,df,init_time,plotting_options_var2)\n",
    "                centered_data_avg2 = centered_data.mean(dim='ID')*my_dict[varname2][0]\n",
    "                if (plotting_options['lat_option'] == 'eq'):\n",
    "                    lat = lat+plotting_options['clat']\n",
    "                cf = ax.plot(centered_data_avg1,lat)\n",
    "                cl = ax.plot(centered_data_avg2,lat,colors='k',levels=[0.1,0.2,0.3,0.4])\n",
    "                \n",
    "            else:\n",
    "                centered_data1,lat = read_stormcentered_zonally_avg_fields(ds,dLon,dLat,lag,varname,df1,init_time,plotting_options)\n",
    "                centered_data_avg1 = centered_data1.mean(dim='ID')*my_dict[varname][0]\n",
    "\n",
    "                centered_data2,lat = read_stormcentered_zonally_avg_fields(ds,dLon,dLat,lag,varname,df2,init_time,plotting_options)\n",
    "                centered_data_avg2 = centered_data2.mean(dim='ID')*my_dict[varname][0]\n",
    "                if (plotting_options['lat_option'] == 'eq'):\n",
    "                    lat = lat+plotting_options['clat']\n",
    "                \n",
    "                ax.plot(centered_data_avg1,lat,linewidth=4)\n",
    "                ax.plot(centered_data_avg2,lat,linewidth=4)\n",
    "                \n",
    "            ax.set_ylabel('latitude')\n",
    "            ax.set_xlabel('850-hPa absolute vorticity \\n anomaly (10$^{-5}$ s$^{-1}$)')#my_dict[varname][3])\n",
    "#             plt.hlines(0,-dLon,dLon)\n",
    "            plt.vlines(0,np.min(lat),np.max(lat))\n",
    "            ax.grid(True)\n",
    "            plt.title('t = $%i$ days'%lag)\n",
    "            labels = ['DEV (N = %i)'%len(df1),'non-DEV (N = %i)'%len(df2)]\n",
    "            plt.legend(labels)\n",
    "#             plt.xlim([-1,1])\n",
    "\n",
    "            fig.tight_layout(pad=0.1)\n",
    "            plt.savefig('%s_profiles_%s_DEVvsnon-DEV_%sdays.jpg'%(varname,exp_name,lag),bbox_inches='tight',dpi=150)"
   ]
  },
  {
   "cell_type": "code",
   "execution_count": null,
   "metadata": {},
   "outputs": [],
   "source": [
    "dLat = 35.1/4.0\n",
    "dLon = 35.1#21.06\n",
    "plot_individual_tcs = False\n",
    "lat_option = 'eq'\n",
    "df1 = tcgen_info[tcgen_info.ID.isin(tcs_on_peak)]\n",
    "df2 = analogs_ndv[analogs_ndv.ID.isin(ndv_on_peak)]\n",
    "len(tcs_on_peak)"
   ]
  },
  {
   "cell_type": "code",
   "execution_count": null,
   "metadata": {},
   "outputs": [],
   "source": [
    "nDays=[-1,0,1]\n",
    "varname='vort850'\n",
    "get_plot_zonally_avgd_profiles_wrt_genesis(fname,dLon,dLat,nDays,varname,df1,df2,init_time,\n",
    "                                           lat_option=lat_option,subtract_zonal_time_mean=True,\n",
    "                                           TC_removal=True,clat=dLat/2)"
   ]
  },
  {
   "cell_type": "code",
   "execution_count": null,
   "metadata": {},
   "outputs": [],
   "source": [
    "###needed: repeat this analysis w/ ALL vortices removed as in Davis et al (2008)"
   ]
  },
  {
   "cell_type": "code",
   "execution_count": null,
   "metadata": {},
   "outputs": [],
   "source": [
    "get_plot_zonally_avgd_profiles_wrt_genesis(fname,dLon,dLat,nDays,varname,df1,df2,init_time,\n",
    "                                           lat_option=lat_option,subtract_zonal_time_mean=False,\n",
    "                                           TC_removal=False,clat=dLat/2)"
   ]
  },
  {
   "cell_type": "code",
   "execution_count": null,
   "metadata": {},
   "outputs": [],
   "source": []
  },
  {
   "cell_type": "code",
   "execution_count": null,
   "metadata": {},
   "outputs": [],
   "source": []
  },
  {
   "cell_type": "code",
   "execution_count": null,
   "metadata": {},
   "outputs": [],
   "source": []
  },
  {
   "cell_type": "code",
   "execution_count": null,
   "metadata": {},
   "outputs": [],
   "source": []
  },
  {
   "cell_type": "code",
   "execution_count": null,
   "metadata": {},
   "outputs": [],
   "source": []
  },
  {
   "cell_type": "code",
   "execution_count": null,
   "metadata": {},
   "outputs": [],
   "source": []
  },
  {
   "cell_type": "code",
   "execution_count": null,
   "metadata": {},
   "outputs": [],
   "source": []
  },
  {
   "cell_type": "code",
   "execution_count": null,
   "metadata": {},
   "outputs": [],
   "source": []
  },
  {
   "cell_type": "code",
   "execution_count": null,
   "metadata": {},
   "outputs": [],
   "source": []
  },
  {
   "cell_type": "code",
   "execution_count": null,
   "metadata": {},
   "outputs": [],
   "source": []
  },
  {
   "cell_type": "code",
   "execution_count": null,
   "metadata": {},
   "outputs": [],
   "source": []
  },
  {
   "cell_type": "code",
   "execution_count": null,
   "metadata": {},
   "outputs": [],
   "source": []
  }
 ],
 "metadata": {
  "kernelspec": {
   "display_name": "Python [conda env:miniconda3-analysis]",
   "language": "python",
   "name": "conda-env-miniconda3-analysis-py"
  },
  "language_info": {
   "codemirror_mode": {
    "name": "ipython",
    "version": 3
   },
   "file_extension": ".py",
   "mimetype": "text/x-python",
   "name": "python",
   "nbconvert_exporter": "python",
   "pygments_lexer": "ipython3",
   "version": "3.7.3"
  }
 },
 "nbformat": 4,
 "nbformat_minor": 4
}
